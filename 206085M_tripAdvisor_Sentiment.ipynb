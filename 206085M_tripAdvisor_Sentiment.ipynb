{
 "cells": [
  {
   "cell_type": "code",
   "execution_count": null,
   "id": "f292f582",
   "metadata": {},
   "outputs": [],
   "source": [
    "\n",
    "import pandas as pd\n",
    "import numpy as np\n",
    "import matplotlib.pyplot as plt\n",
    "\n",
    "# Load data\n",
    "file_path = '/mnt/data/tripadvisor.csv'\n",
    "tripadvisor_data = pd.read_csv(file_path)\n",
    "\n",
    "# Select relevant columns for analysis based on sentiment-related keywords\n",
    "sentiment_columns = [\"numberOfReviews\", \"categoryReviewScores/0/score\", \n",
    "                     \"categoryReviewScores/1/score\", \"categoryReviewScores/2/score\"]\n",
    "sentiment_data = tripadvisor_data[sentiment_columns].dropna()\n",
    "\n",
    "# Rename columns for better readability\n",
    "sentiment_data.columns = [\"Number of Reviews\", \"Cleanliness Score\", \"Staff Score\", \"Facilities Score\"]\n",
    "\n",
    "# Calculate average sentiment score for each hotel\n",
    "sentiment_data['Average Sentiment Score'] = sentiment_data[['Cleanliness Score', 'Staff Score', 'Facilities Score']].mean(axis=1)\n"
   ]
  },
  {
   "cell_type": "code",
   "execution_count": null,
   "id": "69d8d587",
   "metadata": {},
   "outputs": [],
   "source": [
    "\n",
    "# Plot Perceptual Map\n",
    "plt.figure(figsize=(10, 7))\n",
    "plt.scatter(sentiment_data['Number of Reviews'], sentiment_data['Average Sentiment Score'], alpha=0.7)\n",
    "plt.title('Perceptual Map of Hotels Based on Sentiment Analysis')\n",
    "plt.xlabel('Number of Reviews')\n",
    "plt.ylabel('Average Sentiment Score')\n",
    "plt.grid(True)\n",
    "\n",
    "# Annotate top 10 hotels by review volume\n",
    "top_hotels = sentiment_data.nlargest(10, 'Number of Reviews')\n",
    "for i, row in top_hotels.iterrows():\n",
    "    plt.text(row['Number of Reviews'] + 2, row['Average Sentiment Score'], f'Hotel {i}', fontsize=9)\n",
    "\n",
    "plt.show()\n"
   ]
  },
  {
   "cell_type": "code",
   "execution_count": null,
   "id": "93bfbd3e",
   "metadata": {},
   "outputs": [],
   "source": [
    "\n",
    "# Calculate the average scores across all hotels for each service aspect\n",
    "sentiment_trends = sentiment_data[['Cleanliness Score', 'Staff Score', 'Facilities Score']].mean()\n",
    "\n",
    "# Summarize sentiment trends\n",
    "trend_summary = pd.DataFrame({\n",
    "    \"Service Aspect\": [\"Cleanliness\", \"Staff Behavior\", \"Facilities\"],\n",
    "    \"Average Sentiment Score\": sentiment_trends.values\n",
    "})\n",
    "\n",
    "# Display sentiment trend summary table\n",
    "print(\"Sentiment Trends Summary:\")\n",
    "print(trend_summary)\n"
   ]
  }
 ],
 "metadata": {},
 "nbformat": 4,
 "nbformat_minor": 5
}
